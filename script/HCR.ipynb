{
  "cells": [
    {
      "cell_type": "code",
      "execution_count": 2,
      "metadata": {
        "colab": {
          "base_uri": "https://localhost:8080/"
        },
        "id": "i37ofZSdzQjX",
        "outputId": "d1dde44d-17ea-41ee-db74-3c7a3ea04445"
      },
      "outputs": [
        {
          "name": "stdout",
          "output_type": "stream",
          "text": [
            "Mounted at /content/drive\n"
          ]
        }
      ],
      "source": [
        "from google.colab import drive\n",
        "drive.mount('/content/drive')"
      ]
    },
    {
      "cell_type": "code",
      "execution_count": 3,
      "metadata": {
        "colab": {
          "base_uri": "https://localhost:8080/"
        },
        "id": "QW6-aKpNzrQV",
        "outputId": "016182b5-08d1-4839-dcdd-c58b459c4721"
      },
      "outputs": [
        {
          "name": "stdout",
          "output_type": "stream",
          "text": [
            "Cloning into 'extra_keras_datasets'...\n",
            "remote: Enumerating objects: 520, done.\u001b[K\n",
            "remote: Counting objects: 100% (53/53), done.\u001b[K\n",
            "remote: Compressing objects: 100% (42/42), done.\u001b[K\n",
            "remote: Total 520 (delta 24), reused 26 (delta 11), pack-reused 467\u001b[K\n",
            "Receiving objects: 100% (520/520), 2.47 MiB | 40.08 MiB/s, done.\n",
            "Resolving deltas: 100% (304/304), done.\n"
          ]
        }
      ],
      "source": [
        "!git clone https://github.com/machinecurve/extra_keras_datasets.git"
      ]
    },
    {
      "cell_type": "code",
      "execution_count": 4,
      "metadata": {
        "id": "Knwj0t5q9fc9"
      },
      "outputs": [],
      "source": [
        "%matplotlib inline\n",
        "import numpy as np                   \n",
        "import matplotlib.pyplot as plt      \n",
        "import random                        \n",
        "# from keras.datasets import mnist     \n",
        "from keras.models import Sequential  \n",
        "\n",
        "from keras.layers.core import Dense, Dropout, Activation \n",
        "from keras.utils import np_utils  \n",
        "import keras\n",
        "\n",
        "from keras.preprocessing.image import ImageDataGenerator\n",
        "from tensorflow.keras.layers import Conv2D, MaxPooling2D, ZeroPadding2D, GlobalAveragePooling2D, Flatten\n",
        "# from keras.layers.normalization import BatchNormalization\n",
        "# import tensorflow as tf\n",
        "# tf.keras.layers.BatchNormalization()\n",
        "from tensorflow.keras.layers import BatchNormalization\n",
        "import tensorflow as tf\n",
        "\n"
      ]
    },
    {
      "cell_type": "code",
      "execution_count": 5,
      "metadata": {
        "colab": {
          "base_uri": "https://localhost:8080/"
        },
        "id": "olDNa9MC0ju8",
        "outputId": "3c6a68d3-138c-4eca-cc7c-9d36d7adfbe9"
      },
      "outputs": [
        {
          "name": "stderr",
          "output_type": "stream",
          "text": [
            "INFO:root:Loading dataset = emnist\n"
          ]
        },
        {
          "name": "stdout",
          "output_type": "stream",
          "text": [
            "Downloading data from http://www.itl.nist.gov/iaui/vip/cs_links/EMNIST/matlab.zip\n",
            "743907328/743900280 [==============================] - 48s 0us/step\n",
            "743915520/743900280 [==============================] - 48s 0us/step\n"
          ]
        },
        {
          "name": "stderr",
          "output_type": "stream",
          "text": [
            "WARNING:root:Please cite the following paper when using or referencing this Extra Keras Dataset:\n",
            "WARNING:root:Cohen, G., Afshar, S., Tapson, J., & van Schaik, A. (2017). EMNIST: an extension of MNIST to handwritten letters. Retrieved from http://arxiv.org/abs/1702.05373\n"
          ]
        }
      ],
      "source": [
        "from extra_keras_datasets.extra_keras_datasets import emnist\n",
        "(X_train, y_train), (X_test, y_test) = emnist.load_data(type='byclass')\n",
        "#It is a convention: X and y"
      ]
    },
    {
      "cell_type": "code",
      "execution_count": 6,
      "metadata": {
        "colab": {
          "base_uri": "https://localhost:8080/"
        },
        "id": "1EzOLziD7WIU",
        "outputId": "821d18f6-99d5-4b49-f90a-3ed9a984fb35"
      },
      "outputs": [
        {
          "name": "stdout",
          "output_type": "stream",
          "text": [
            "X_train shape (697932, 28, 28)\n",
            "y_train shape (697932,)\n",
            "X_test shape (116323, 28, 28)\n",
            "y_test shape (116323,)\n"
          ]
        }
      ],
      "source": [
        "print(\"X_train shape\", X_train.shape)\n",
        "print(\"y_train shape\", y_train.shape)\n",
        "print(\"X_test shape\", X_test.shape)\n",
        "print(\"y_test shape\", y_test.shape)"
      ]
    },
    {
      "cell_type": "code",
      "execution_count": 7,
      "metadata": {
        "colab": {
          "base_uri": "https://localhost:8080/"
        },
        "id": "I0RNLBI3_GwV",
        "outputId": "a88353f1-aa23-400f-a7c1-bb9b474f4c4e"
      },
      "outputs": [
        {
          "data": {
            "text/plain": [
              "62"
            ]
          },
          "execution_count": 7,
          "metadata": {},
          "output_type": "execute_result"
        }
      ],
      "source": [
        "LABELS = ['0', '1', '2', '3', '4', '5', '6', '7', '8', '9', \n",
        "          'A', 'B', 'C', 'D', 'E', 'F', 'G', 'H', 'I', 'J', 'K', 'L', 'M', 'N', 'O', 'P', 'Q', 'R', 'S', 'T', 'U', 'V', 'W', 'X', 'Y', 'Z',\n",
        "          'a', 'b', 'c', 'd', 'e', 'f', 'g', 'h', 'i', 'j', 'k', 'l', 'm', 'n', 'o', 'p', 'q', 'r', 's', 't', 'u', 'v', 'w', 'x', 'y', 'z']\n",
        "len(LABELS)"
      ]
    },
    {
      "cell_type": "code",
      "execution_count": 20,
      "metadata": {
        "colab": {
          "base_uri": "https://localhost:8080/",
          "height": 657
        },
        "id": "Fz7cRUaD2eU9",
        "outputId": "05e1bbb5-73d7-47c5-9e6c-ac551e399e44"
      },
      "outputs": [
        {
          "data": {
            "image/png": "[encoded data removed]",
            "text/plain": [
              "<Figure size 648x648 with 9 Axes>"
            ]
          },
          "metadata": {
            "needs_background": "light"
          },
          "output_type": "display_data"
        }
      ],
      "source": [
        "# plt.rcParams['figure.figsize'] = (14,14)  same as belows line \n",
        "plt.figure(figsize=(9, 9))\n",
        "for i in range(9):\n",
        "    plt.subplot(3,3,i+1)\n",
        "    num = random.randint(0, len(X_train))\n",
        "    plt.imshow(X_train[num], cmap='binary', interpolation='nearest')\n",
        "    plt.title(\"Class {}\".format(LABELS[y_train[num]]))\n",
        "    \n",
        "    \n",
        "plt.tight_layout()"
      ]
    },
    {
      "cell_type": "code",
      "execution_count": null,
      "metadata": {
        "colab": {
          "base_uri": "https://localhost:8080/"
        },
        "id": "IKHELXfSelm1",
        "outputId": "ab30b7e0-0756-43f5-eb50-d8b260535d85"
      },
      "outputs": [
        {
          "name": "stdout",
          "output_type": "stream",
          "text": [
            "X_train shape (697932, 28, 28, 1)\n",
            "y_train shape (697932,)\n",
            "X_test shape (116323, 28, 28, 1)\n",
            "y_test shape (116323,)\n"
          ]
        }
      ],
      "source": [
        "# Pre processing \n",
        "\n",
        "\n",
        "# expanding dim of img to (28,28,1)\n",
        "X_train = np.expand_dims(X_train,-1)\n",
        "X_test = np.expand_dims(X_test, -1)\n",
        "\n",
        "# changing int to 32 bi to floating point no. and normalize each vector\n",
        "X_train = X_train.astype(np.float32)/255\n",
        "X_test = X_test.astype(np.float32)/255\n",
        "\n",
        "print(\"X_train shape\", X_train.shape)\n",
        "print(\"y_train shape\", y_train.shape)\n",
        "print(\"X_test shape\", X_test.shape)\n",
        "print(\"y_test shape\", y_test.shape)\n"
      ]
    },
    {
      "cell_type": "code",
      "execution_count": 32,
      "metadata": {
        "colab": {
          "base_uri": "https://localhost:8080/"
        },
        "id": "Ob9xwgls8acG",
        "outputId": "6088c7d8-f669-44b1-ab6f-ff41cecd467a"
      },
      "outputs": [
        {
          "name": "stdout",
          "output_type": "stream",
          "text": [
            "X_train shape (697932, 28, 28)\n",
            "y_train shape (697932, 62)\n",
            "X_test shape (116323, 28, 28)\n",
            "y_test shape (116323, 62)\n"
          ]
        }
      ],
      "source": [
        "\n",
        "nb_classes = 62 # number of unique unbaised classes\n",
        "Y_train = np_utils.to_categorical(y_train, nb_classes)\n",
        "Y_test = np_utils.to_categorical(y_test, nb_classes)\n",
        "print(\"X_train shape\", X_train.shape)\n",
        "print(\"y_train shape\", Y_train.shape)\n",
        "print(\"X_test shape\", X_test.shape)\n",
        "print(\"y_test shape\", Y_test.shape)"
      ]
    },
    {
      "cell_type": "code",
      "execution_count": null,
      "metadata": {
        "colab": {
          "base_uri": "https://localhost:8080/"
        },
        "id": "OuZyKlHQ-MI7",
        "outputId": "7be17f8d-c8c7-4da5-ab09-1edb22410ab5"
      },
      "outputs": [
        {
          "name": "stdout",
          "output_type": "stream",
          "text": [
            "Model: \"sequential\"\n",
            "_________________________________________________________________\n",
            " Layer (type)                Output Shape              Param #   \n",
            "=================================================================\n",
            " conv2d (Conv2D)             (None, 26, 26, 32)        320       \n",
            "                                                                 \n",
            " max_pooling2d (MaxPooling2D  (None, 13, 13, 32)       0         \n",
            " )                                                               \n",
            "                                                                 \n",
            " flatten (Flatten)           (None, 5408)              0         \n",
            "                                                                 \n",
            " dense (Dense)               (None, 512)               2769408   \n",
            "                                                                 \n",
            " dense_1 (Dense)             (None, 128)               65664     \n",
            "                                                                 \n",
            " dense_2 (Dense)             (None, 62)                7998      \n",
            "                                                                 \n",
            "=================================================================\n",
            "Total params: 2,843,390\n",
            "Trainable params: 2,843,390\n",
            "Non-trainable params: 0\n",
            "_________________________________________________________________\n"
          ]
        }
      ],
      "source": [
        "model = tf.keras.Sequential([ \n",
        "    tf.keras.layers.Conv2D(32,3,input_shape=(28,28,1)),\n",
        "    tf.keras.layers.MaxPooling2D(2,2),\n",
        "    tf.keras.layers.Flatten(input_shape=(28,28,1)),\n",
        "    tf.keras.layers.Dense(512,activation='relu'),\n",
        "    tf.keras.layers.Dense(128,activation='relu'),\n",
        "    tf.keras.layers.Dense(nb_classes,activation='softmax')\n",
        "])\n",
        "model.summary()"
      ]
    },
    {
      "cell_type": "code",
      "execution_count": 36,
      "metadata": {
        "collapsed": true,
        "id": "6kC-JG6T2eVb"
      },
      "outputs": [],
      "source": [
        "model = Sequential()                                 # Linear stacking of layers\n",
        "\n",
        "# Convolution Layer 1\n",
        "model.add(Conv2D(62, (3, 3), input_shape=(28,28,1))) # 32 different 3x3 kernels -- so 32 feature maps\n",
        "model.add(BatchNormalization(axis=-1))               # normalize each feature map before activation\n",
        "convLayer01 = Activation('relu')                     # activation\n",
        "model.add(convLayer01)\n",
        "\n",
        "# Convolution Layer 2\n",
        "model.add(Conv2D(62, (3, 3)))                        # 32 different 3x3 kernels -- so 32 feature maps\n",
        "model.add(BatchNormalization(axis=-1))               # normalize each feature map before activation\n",
        "model.add(Activation('relu'))                        # activation\n",
        "convLayer02 = MaxPooling2D(pool_size=(2,2))          # Pool the max values over a 2x2 kernel\n",
        "model.add(convLayer02)\n",
        "\n",
        "# Convolution Layer 3\n",
        "model.add(Conv2D(124,(3, 3)))                         # 64 different 3x3 kernels -- so 64 feature maps\n",
        "model.add(BatchNormalization(axis=-1))               # normalize each feature map before activation\n",
        "convLayer03 = Activation('relu')                     # activation\n",
        "model.add(convLayer03)\n",
        "\n",
        "# Convolution Layer 4\n",
        "model.add(Conv2D(62, (3, 3)))                        # 64 different 3x3 kernels -- so 64 feature maps\n",
        "model.add(BatchNormalization(axis=-1))               # normalize each feature map before activation\n",
        "model.add(Activation('relu'))                        # activation\n",
        "convLayer04 = MaxPooling2D(pool_size=(2,2))          # Pool the max values over a 2x2 kernel\n",
        "model.add(convLayer04)\n",
        "model.add(Flatten())                                 # Flatten final 4x4x64 output matrix into a 1024-length vector\n",
        "\n",
        "# Fully Connected Layer 5\n",
        "model.add(Dense(496))                                # 512 FCN nodes\n",
        "model.add(BatchNormalization())                      # normalization\n",
        "model.add(Activation('relu'))                        # activation\n",
        "\n",
        "# Fully Connected Layer 6                       \n",
        "model.add(Dropout(0.2))                              # 20% dropout of randomly selected nodes\n",
        "model.add(Dense(62))                                 # final 10 FCN nodes\n",
        "model.add(Activation('softmax'))                     # softmax activation"
      ]
    },
    {
      "cell_type": "code",
      "execution_count": 37,
      "metadata": {
        "colab": {
          "base_uri": "https://localhost:8080/"
        },
        "id": "Svcrek0LDbqZ",
        "outputId": "acc91c47-205e-4480-aed1-16a5cc6f681a"
      },
      "outputs": [
        {
          "name": "stdout",
          "output_type": "stream",
          "text": [
            "Model: \"sequential\"\n",
            "_________________________________________________________________\n",
            " Layer (type)                Output Shape              Param #   \n",
            "=================================================================\n",
            " conv2d (Conv2D)             (None, 26, 26, 62)        620       \n",
            "                                                                 \n",
            " batch_normalization (BatchN  (None, 26, 26, 62)       248       \n",
            " ormalization)                                                   \n",
            "                                                                 \n",
            " activation (Activation)     (None, 26, 26, 62)        0         \n",
            "                                                                 \n",
            " conv2d_1 (Conv2D)           (None, 24, 24, 62)        34658     \n",
            "                                                                 \n",
            " batch_normalization_1 (Batc  (None, 24, 24, 62)       248       \n",
            " hNormalization)                                                 \n",
            "                                                                 \n",
            " activation_1 (Activation)   (None, 24, 24, 62)        0         \n",
            "                                                                 \n",
            " max_pooling2d (MaxPooling2D  (None, 12, 12, 62)       0         \n",
            " )                                                               \n",
            "                                                                 \n",
            " conv2d_2 (Conv2D)           (None, 10, 10, 124)       69316     \n",
            "                                                                 \n",
            " batch_normalization_2 (Batc  (None, 10, 10, 124)      496       \n",
            " hNormalization)                                                 \n",
            "                                                                 \n",
            " activation_2 (Activation)   (None, 10, 10, 124)       0         \n",
            "                                                                 \n",
            " conv2d_3 (Conv2D)           (None, 8, 8, 62)          69254     \n",
            "                                                                 \n",
            " batch_normalization_3 (Batc  (None, 8, 8, 62)         248       \n",
            " hNormalization)                                                 \n",
            "                                                                 \n",
            " activation_3 (Activation)   (None, 8, 8, 62)          0         \n",
            "                                                                 \n",
            " max_pooling2d_1 (MaxPooling  (None, 4, 4, 62)         0         \n",
            " 2D)                                                             \n",
            "                                                                 \n",
            " flatten (Flatten)           (None, 992)               0         \n",
            "                                                                 \n",
            " dense (Dense)               (None, 496)               492528    \n",
            "                                                                 \n",
            " batch_normalization_4 (Batc  (None, 496)              1984      \n",
            " hNormalization)                                                 \n",
            "                                                                 \n",
            " activation_4 (Activation)   (None, 496)               0         \n",
            "                                                                 \n",
            " dropout (Dropout)           (None, 496)               0         \n",
            "                                                                 \n",
            " dense_1 (Dense)             (None, 62)                30814     \n",
            "                                                                 \n",
            " activation_5 (Activation)   (None, 62)                0         \n",
            "                                                                 \n",
            "=================================================================\n",
            "Total params: 700,414\n",
            "Trainable params: 698,802\n",
            "Non-trainable params: 1,612\n",
            "_________________________________________________________________\n"
          ]
        }
      ],
      "source": [
        "model.summary()"
      ]
    },
    {
      "cell_type": "code",
      "execution_count": 38,
      "metadata": {
        "id": "RTUB7qDVDj25"
      },
      "outputs": [],
      "source": [
        "# we'll use the same optimizer\n",
        "\n",
        "model.compile(loss='categorical_crossentropy', optimizer='adam', metrics=['accuracy'])"
      ]
    },
    {
      "cell_type": "code",
      "execution_count": 39,
      "metadata": {
        "colab": {
          "base_uri": "https://localhost:8080/"
        },
        "id": "Ujxdnl_gDvzs",
        "outputId": "f1e8ed43-3d3f-4cd8-b329-77f8405ada74"
      },
      "outputs": [
        {
          "name": "stdout",
          "output_type": "stream",
          "text": [
            "Epoch 1/10\n",
            "5453/5453 [==============================] - 83s 15ms/step - loss: 0.4364 - accuracy: 0.8460\n",
            "Epoch 2/10\n",
            "5453/5453 [==============================] - 80s 15ms/step - loss: 0.3605 - accuracy: 0.8659\n",
            "Epoch 3/10\n",
            "5453/5453 [==============================] - 81s 15ms/step - loss: 0.3403 - accuracy: 0.8721\n",
            "Epoch 4/10\n",
            "5453/5453 [==============================] - 82s 15ms/step - loss: 0.3274 - accuracy: 0.8759\n",
            "Epoch 5/10\n",
            "5453/5453 [==============================] - 81s 15ms/step - loss: 0.3161 - accuracy: 0.8792\n",
            "Epoch 6/10\n",
            "5453/5453 [==============================] - 81s 15ms/step - loss: 0.3075 - accuracy: 0.8816\n",
            "Epoch 7/10\n",
            "5453/5453 [==============================] - 80s 15ms/step - loss: 0.2987 - accuracy: 0.8844\n",
            "Epoch 8/10\n",
            "5453/5453 [==============================] - 80s 15ms/step - loss: 0.2903 - accuracy: 0.8867\n",
            "Epoch 9/10\n",
            "5453/5453 [==============================] - 80s 15ms/step - loss: 0.2834 - accuracy: 0.8892\n",
            "Epoch 10/10\n",
            "5453/5453 [==============================] - 79s 15ms/step - loss: 0.2752 - accuracy: 0.8918\n"
          ]
        },
        {
          "data": {
            "text/plain": [
              "<keras.callbacks.History at 0x7f44a3ddac50>"
            ]
          },
          "execution_count": 39,
          "metadata": {},
          "output_type": "execute_result"
        }
      ],
      "source": [
        "model.fit(X_train, Y_train,\n",
        "          batch_size=128, epochs=10,\n",
        "          verbose=1)"
      ]
    },
    {
      "cell_type": "code",
      "execution_count": null,
      "metadata": {
        "id": "bLVN5_KC2eVd"
      },
      "outputs": [],
      "source": [
        "# We can now train our model which is fed data by our batch loader\n",
        "# Steps per epoch should always be total size of the set divided by the batch size\n",
        "\n",
        "# SIGNIFICANT MEMORY SAVINGS (important for larger, deeper networks)\n",
        "\n",
        "model.fit_generator(X_train, steps_per_epoch=60000//128, epochs=5, verbose=1, \n",
        "                    validation_data=test_generator, validation_steps=10000//128)"
      ]
    },
    {
      "cell_type": "code",
      "execution_count": 40,
      "metadata": {
        "colab": {
          "base_uri": "https://localhost:8080/"
        },
        "id": "CbpHELd6EGZ3",
        "outputId": "c9004dc8-41a8-4fa5-8909-a76911d3a216"
      },
      "outputs": [
        {
          "name": "stdout",
          "output_type": "stream",
          "text": [
            "3636/3636 [==============================] - 14s 4ms/step - loss: 0.3347 - accuracy: 0.8763\n",
            "Test score: 0.33470702171325684\n",
            "Test accuracy: 0.8763099312782288\n"
          ]
        }
      ],
      "source": [
        "score = model.evaluate(X_test, Y_test)\n",
        "print('Test score:', score[0])\n",
        "print('Test accuracy:', score[1])"
      ]
    },
    {
      "cell_type": "code",
      "execution_count": 41,
      "metadata": {
        "id": "vAWb7vFuGhuX"
      },
      "outputs": [],
      "source": [
        "\n",
        "model.save('/content/drive/MyDrive/hcr3.h5')\n",
        "\n"
      ]
    },
    {
      "cell_type": "code",
      "execution_count": 42,
      "metadata": {
        "id": "IsSfyfSzq31e"
      },
      "outputs": [],
      "source": [
        "model = keras.models.load_model('/content/drive/MyDrive/hcr3.h5', compile=False)"
      ]
    },
    {
      "cell_type": "code",
      "execution_count": 55,
      "metadata": {
        "colab": {
          "base_uri": "https://localhost:8080/",
          "height": 334
        },
        "id": "S7pDRpxkGyTu",
        "outputId": "349b0c30-ceb5-431d-d16a-e6723581efcd"
      },
      "outputs": [
        {
          "name": "stdout",
          "output_type": "stream",
          "text": [
            "(1, 28, 28)\n",
            "(1, 62)\n",
            "(1, 62)\n",
            "a\n"
          ]
        },
        {
          "data": {
            "image/png": "[encoded data removed]",
            "text/plain": [
              "<Figure size 432x288 with 1 Axes>"
            ]
          },
          "metadata": {
            "needs_background": "light"
          },
          "output_type": "display_data"
        }
      ],
      "source": [
        "import cv2\n",
        "test_img = cv2.imread('/content/Untitled.png', cv2.IMREAD_GRAYSCALE) \n",
        "# test_img = cv2.cvtColor(test_img, cv2.COLOR_RGB2BGR)\n",
        "# test_image = test_img \n",
        "# test_img= X_train[34]\n",
        "test_img = cv2.resize(test_img, (28, 28))\n",
        "plt.imshow(test_img, cmap=\"gray\")\n",
        "test_img = np.expand_dims(test_img, axis=0)\n",
        "print(test_img.shape)\n",
        "prediction = model.predict(test_img)\n",
        "print(prediction.shape)\n",
        "prediction= prediction[[0]]\n",
        "print(prediction.shape)\n",
        "lavel = str(LABELS[y_train[np.argmax(prediction)]])\n",
        "print(lavel)\n"
      ]
    },
    {
      "cell_type": "code",
      "execution_count": null,
      "metadata": {
        "colab": {
          "base_uri": "https://localhost:8080/",
          "height": 165
        },
        "id": "nwEvwKp9JGqJ",
        "outputId": "86c75ec7-d311-47d3-ded9-dbee3bdf2aa9"
      },
      "outputs": [
        {
          "ename": "NameError",
          "evalue": "ignored",
          "output_type": "error",
          "traceback": [
            "\u001b[0;31m---------------------------------------------------------------------------\u001b[0m",
            "\u001b[0;31mNameError\u001b[0m                                 Traceback (most recent call last)",
            "\u001b[0;32m<ipython-input-19-d6e2881f270c>\u001b[0m in \u001b[0;36m<module>\u001b[0;34m()\u001b[0m\n\u001b[0;32m----> 1\u001b[0;31m \u001b[0mvisualize\u001b[0m\u001b[0;34m(\u001b[0m\u001b[0mconvLayer01\u001b[0m\u001b[0;34m)\u001b[0m\u001b[0;34m\u001b[0m\u001b[0;34m\u001b[0m\u001b[0m\n\u001b[0m",
            "\u001b[0;31mNameError\u001b[0m: name 'visualize' is not defined"
          ]
        }
      ],
      "source": [
        "visualize(convLayer01)"
      ]
    }
  ],
  "metadata": {
    "accelerator": "GPU",
    "colab": {
      "collapsed_sections": [],
      "name": "HCR.ipynb",
      "provenance": []
    },
    "gpuClass": "standard",
    "kernelspec": {
      "display_name": "Python 3.9.12 ('HCR_venv')",
      "language": "python",
      "name": "python3"
    },
    "language_info": {
      "name": "python",
      "version": "3.9.12"
    },
    "vscode": {
      "interpreter": {
        "hash": "46c1952d3905224628cfa0e461b72ef1fa0df47b97c43356583fdc727dd637d4"
      }
    }
  },
  "nbformat": 4,
  "nbformat_minor": 0
}
